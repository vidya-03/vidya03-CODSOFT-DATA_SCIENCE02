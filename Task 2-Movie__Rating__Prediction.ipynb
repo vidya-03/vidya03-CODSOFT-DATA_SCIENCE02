{
 "cells": [
  {
   "cell_type": "markdown",
   "id": "311de5f6",
   "metadata": {},
   "source": [
    "# # TASK 2 : MOVIE RATING PREDICTION"
   ]
  },
  {
   "cell_type": "markdown",
   "id": "9041fc28",
   "metadata": {},
   "source": [
    "\n",
    "\n",
    " CODSOFT INTERNSHIP TASK 2\n",
    "TASK 2 : MOVIE RATING PREDICTION\n",
    "\n",
    "\n",
    "#Name:Vidyashree V Hiremath\n",
    "\n",
    "#Domain:Data Science\n",
    "\n",
    "#Batch:P1\n",
    "\n",
    "#Goal:To analyse and predict the ratings of the Movie based on the features like actors,genre and director.\n"
   ]
  },
  {
   "cell_type": "code",
   "execution_count": 2,
   "id": "317ed8f9",
   "metadata": {},
   "outputs": [],
   "source": [
    "import pandas as pd\n",
    "from sklearn.feature_extraction.text import CountVectorizer\n",
    "from sklearn.model_selection import train_test_split\n",
    "from sklearn.naive_bayes import MultinomialNB\n",
    "from sklearn.metrics import accuracy_score\n",
    "\n"
   ]
  },
  {
   "cell_type": "code",
   "execution_count": 8,
   "id": "dab7e899",
   "metadata": {},
   "outputs": [],
   "source": [
    "\n",
    "# # Load the movie review dataset\n",
    "\n",
    "df = pd.read_csv(\"IMDb Movies India.csv\",encoding=(\"ISO-8859-1\"),low_memory=False)\n",
    "df = df.dropna()\n",
    "\n"
   ]
  },
  {
   "cell_type": "code",
   "execution_count": 11,
   "id": "92ee534b",
   "metadata": {},
   "outputs": [
    {
     "data": {
      "text/html": [
       "<div>\n",
       "<style scoped>\n",
       "    .dataframe tbody tr th:only-of-type {\n",
       "        vertical-align: middle;\n",
       "    }\n",
       "\n",
       "    .dataframe tbody tr th {\n",
       "        vertical-align: top;\n",
       "    }\n",
       "\n",
       "    .dataframe thead th {\n",
       "        text-align: right;\n",
       "    }\n",
       "</style>\n",
       "<table border=\"1\" class=\"dataframe\">\n",
       "  <thead>\n",
       "    <tr style=\"text-align: right;\">\n",
       "      <th></th>\n",
       "      <th>Name</th>\n",
       "      <th>Year</th>\n",
       "      <th>Duration</th>\n",
       "      <th>Genre</th>\n",
       "      <th>Rating</th>\n",
       "      <th>Votes</th>\n",
       "      <th>Director</th>\n",
       "      <th>Actor 1</th>\n",
       "      <th>Actor 2</th>\n",
       "      <th>Actor 3</th>\n",
       "    </tr>\n",
       "  </thead>\n",
       "  <tbody>\n",
       "    <tr>\n",
       "      <th>1</th>\n",
       "      <td>#Gadhvi (He thought he was Gandhi)</td>\n",
       "      <td>(2019)</td>\n",
       "      <td>109 min</td>\n",
       "      <td>Drama</td>\n",
       "      <td>7.0</td>\n",
       "      <td>8</td>\n",
       "      <td>Gaurav Bakshi</td>\n",
       "      <td>Rasika Dugal</td>\n",
       "      <td>Vivek Ghamande</td>\n",
       "      <td>Arvind Jangid</td>\n",
       "    </tr>\n",
       "    <tr>\n",
       "      <th>3</th>\n",
       "      <td>#Yaaram</td>\n",
       "      <td>(2019)</td>\n",
       "      <td>110 min</td>\n",
       "      <td>Comedy, Romance</td>\n",
       "      <td>4.4</td>\n",
       "      <td>35</td>\n",
       "      <td>Ovais Khan</td>\n",
       "      <td>Prateik</td>\n",
       "      <td>Ishita Raj</td>\n",
       "      <td>Siddhant Kapoor</td>\n",
       "    </tr>\n",
       "    <tr>\n",
       "      <th>5</th>\n",
       "      <td>...Aur Pyaar Ho Gaya</td>\n",
       "      <td>(1997)</td>\n",
       "      <td>147 min</td>\n",
       "      <td>Comedy, Drama, Musical</td>\n",
       "      <td>4.7</td>\n",
       "      <td>827</td>\n",
       "      <td>Rahul Rawail</td>\n",
       "      <td>Bobby Deol</td>\n",
       "      <td>Aishwarya Rai Bachchan</td>\n",
       "      <td>Shammi Kapoor</td>\n",
       "    </tr>\n",
       "    <tr>\n",
       "      <th>6</th>\n",
       "      <td>...Yahaan</td>\n",
       "      <td>(2005)</td>\n",
       "      <td>142 min</td>\n",
       "      <td>Drama, Romance, War</td>\n",
       "      <td>7.4</td>\n",
       "      <td>1,086</td>\n",
       "      <td>Shoojit Sircar</td>\n",
       "      <td>Jimmy Sheirgill</td>\n",
       "      <td>Minissha Lamba</td>\n",
       "      <td>Yashpal Sharma</td>\n",
       "    </tr>\n",
       "    <tr>\n",
       "      <th>8</th>\n",
       "      <td>?: A Question Mark</td>\n",
       "      <td>(2012)</td>\n",
       "      <td>82 min</td>\n",
       "      <td>Horror, Mystery, Thriller</td>\n",
       "      <td>5.6</td>\n",
       "      <td>326</td>\n",
       "      <td>Allyson Patel</td>\n",
       "      <td>Yash Dave</td>\n",
       "      <td>Muntazir Ahmad</td>\n",
       "      <td>Kiran Bhatia</td>\n",
       "    </tr>\n",
       "  </tbody>\n",
       "</table>\n",
       "</div>"
      ],
      "text/plain": [
       "                                 Name    Year Duration  \\\n",
       "1  #Gadhvi (He thought he was Gandhi)  (2019)  109 min   \n",
       "3                             #Yaaram  (2019)  110 min   \n",
       "5                ...Aur Pyaar Ho Gaya  (1997)  147 min   \n",
       "6                           ...Yahaan  (2005)  142 min   \n",
       "8                  ?: A Question Mark  (2012)   82 min   \n",
       "\n",
       "                       Genre  Rating  Votes        Director          Actor 1  \\\n",
       "1                      Drama     7.0      8   Gaurav Bakshi     Rasika Dugal   \n",
       "3            Comedy, Romance     4.4     35      Ovais Khan          Prateik   \n",
       "5     Comedy, Drama, Musical     4.7    827    Rahul Rawail       Bobby Deol   \n",
       "6        Drama, Romance, War     7.4  1,086  Shoojit Sircar  Jimmy Sheirgill   \n",
       "8  Horror, Mystery, Thriller     5.6    326   Allyson Patel        Yash Dave   \n",
       "\n",
       "                  Actor 2          Actor 3  \n",
       "1          Vivek Ghamande    Arvind Jangid  \n",
       "3              Ishita Raj  Siddhant Kapoor  \n",
       "5  Aishwarya Rai Bachchan    Shammi Kapoor  \n",
       "6          Minissha Lamba   Yashpal Sharma  \n",
       "8          Muntazir Ahmad     Kiran Bhatia  "
      ]
     },
     "execution_count": 11,
     "metadata": {},
     "output_type": "execute_result"
    }
   ],
   "source": [
    "df.head()\n"
   ]
  },
  {
   "cell_type": "code",
   "execution_count": 14,
   "id": "a6187ac5",
   "metadata": {},
   "outputs": [],
   "source": [
    "# # Split the dataset into features (Votes) and labels (rating)\n",
    "\n",
    "votes = df['Votes']\n",
    "rating = df['Rating']"
   ]
  },
  {
   "cell_type": "code",
   "execution_count": 16,
   "id": "1a46419f",
   "metadata": {},
   "outputs": [],
   "source": [
    "# # Split the dataset into training and testing sets\n",
    "X_train, X_test, y_train, y_test = train_test_split(votes, rating, test_size=0.2, random_state=42)"
   ]
  },
  {
   "cell_type": "code",
   "execution_count": 17,
   "id": "5a5fd646",
   "metadata": {},
   "outputs": [],
   "source": [
    "# # Convert text votes into numerical feature vectors using CountVectorizer\n",
    "vectorizer = CountVectorizer(stop_words='english')\n",
    "X_train_vectors = vectorizer.fit_transform(X_train)\n",
    "X_test_vectors = vectorizer.transform(X_test)"
   ]
  },
  {
   "cell_type": "code",
   "execution_count": 21,
   "id": "b5afa1da",
   "metadata": {},
   "outputs": [],
   "source": [
    "import pandas as pd\n",
    "\n",
    "# Define the number of classes (bins)\n",
    "num_classes = 3\n",
    "\n",
    "# Perform binning\n",
    "labels = range(num_classes)\n",
    "y_train = pd.cut(y_train, bins=num_classes, labels=labels)\n",
    "\n"
   ]
  },
  {
   "cell_type": "code",
   "execution_count": 22,
   "id": "2f3cce5d",
   "metadata": {},
   "outputs": [
    {
     "data": {
      "text/plain": [
       "MultinomialNB()"
      ]
     },
     "execution_count": 22,
     "metadata": {},
     "output_type": "execute_result"
    }
   ],
   "source": [
    "# # Train a Naive Bayes classifier on the training data\n",
    "classifier = MultinomialNB()\n",
    "classifier.fit(X_train_vectors, y_train)\n"
   ]
  },
  {
   "cell_type": "code",
   "execution_count": 23,
   "id": "e5e68e00",
   "metadata": {},
   "outputs": [],
   "source": [
    "\n",
    "# # Predict ratings for the test data\n",
    "\n",
    "y_pred = classifier.predict(X_test_vectors)"
   ]
  },
  {
   "cell_type": "code",
   "execution_count": 25,
   "id": "a17faefa",
   "metadata": {},
   "outputs": [],
   "source": [
    "import pandas as pd\n",
    "\n",
    "# Define the number of classes (bins) based on your training data\n",
    "num_classes = 3\n",
    "\n",
    "# Perform binning on test data\n",
    "y_test_binned = pd.cut(y_test, bins=num_classes, labels=labels)\n"
   ]
  },
  {
   "cell_type": "code",
   "execution_count": 26,
   "id": "07b6a21b",
   "metadata": {},
   "outputs": [
    {
     "name": "stdout",
     "output_type": "stream",
     "text": [
      "Accuracy: 0.5459363957597173\n"
     ]
    }
   ],
   "source": [
    "# # Calculate accuracy of the model\n",
    "from sklearn.metrics import accuracy_score\n",
    "\n",
    "accuracy = accuracy_score(y_test_binned, y_pred)\n",
    "print('Accuracy:', accuracy)\n"
   ]
  },
  {
   "cell_type": "code",
   "execution_count": null,
   "id": "0e775636",
   "metadata": {},
   "outputs": [],
   "source": []
  }
 ],
 "metadata": {
  "kernelspec": {
   "display_name": "Python 3 (ipykernel)",
   "language": "python",
   "name": "python3"
  },
  "language_info": {
   "codemirror_mode": {
    "name": "ipython",
    "version": 3
   },
   "file_extension": ".py",
   "mimetype": "text/x-python",
   "name": "python",
   "nbconvert_exporter": "python",
   "pygments_lexer": "ipython3",
   "version": "3.9.12"
  }
 },
 "nbformat": 4,
 "nbformat_minor": 5
}
